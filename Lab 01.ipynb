{
  "nbformat": 4,
  "nbformat_minor": 0,
  "metadata": {
    "colab": {
      "provenance": [],
      "gpuType": "T4"
    },
    "kernelspec": {
      "name": "python3",
      "display_name": "Python 3"
    },
    "language_info": {
      "name": "python"
    },
    "accelerator": "GPU"
  },
  "cells": [
    {
      "cell_type": "markdown",
      "source": [
        "## Lab 01"
      ],
      "metadata": {
        "id": "iyT7D5PmCE5b"
      }
    },
    {
      "cell_type": "code",
      "execution_count": null,
      "metadata": {
        "id": "Vj2UvzGHB0S2"
      },
      "outputs": [],
      "source": [
        "import tensorflow as tf\n",
        "\n",
        "import os, pathlib, warnings, urllib, shutil\n",
        "\n",
        "warnings.filterwarnings(\"ignore\")"
      ]
    },
    {
      "cell_type": "code",
      "source": [
        "giturl = \"https://github.com/dicodingacademy/assets/releases/download/release/\"\n",
        "\n",
        "dataset = \"rockpaperscissors.zip\"\n",
        "\n",
        "urllib.request.urlretrieve(os.path.join(giturl, dataset), dataset)\n",
        "\n",
        "shutil.unpack_archive('rockpaperscissors.zip', '/content', 'zip')"
      ],
      "metadata": {
        "id": "T1cU6OFvCZGM"
      },
      "execution_count": null,
      "outputs": []
    },
    {
      "cell_type": "code",
      "source": [
        "root = \"/content/rockpaperscissors/rps-cv-images\"\n",
        "\n",
        "os.listdir(root)"
      ],
      "metadata": {
        "colab": {
          "base_uri": "https://localhost:8080/"
        },
        "id": "fuBn5Q1-CtBf",
        "outputId": "90ae707d-57e3-459c-88c5-bfd4de5ac819"
      },
      "execution_count": null,
      "outputs": [
        {
          "output_type": "execute_result",
          "data": {
            "text/plain": [
              "['rock', 'paper', 'scissors', 'README_rpc-cv-images.txt']"
            ]
          },
          "metadata": {},
          "execution_count": 3
        }
      ]
    },
    {
      "cell_type": "code",
      "source": [
        "from tensorflow.keras.preprocessing.image import ImageDataGenerator\n",
        "\n",
        "ImageDataGenerator = ImageDataGenerator(\n",
        "  rescale = 1.0 / 255.0,\n",
        "  rotation_range = 20,\n",
        "  zoom_range = 0.2,\n",
        "  shear_range = 0.2,\n",
        "  fill_mode = \"nearest\",\n",
        "  validation_split = 0.4\n",
        ")\n",
        "\n",
        "train = ImageDataGenerator.flow_from_directory(\n",
        "  root,\n",
        "  target_size = (150, 150),\n",
        "  batch_size = 128,\n",
        "  class_mode = \"categorical\",\n",
        "  subset = \"training\"\n",
        ")\n",
        "\n",
        "validation = ImageDataGenerator.flow_from_directory(\n",
        "  root,\n",
        "  target_size = (150, 150),\n",
        "  batch_size = 128,\n",
        "  class_mode = \"categorical\",\n",
        "  subset = \"validation\"\n",
        ")"
      ],
      "metadata": {
        "id": "7HztsKoSCueJ"
      },
      "execution_count": null,
      "outputs": []
    },
    {
      "cell_type": "code",
      "source": [
        "labeler = list(train.class_indices.keys())\n",
        "\n",
        "labeler"
      ],
      "metadata": {
        "colab": {
          "base_uri": "https://localhost:8080/"
        },
        "id": "_dC2vMMlCvwe",
        "outputId": "63e8c854-5025-4fb9-8579-4cbfe9b36719"
      },
      "execution_count": null,
      "outputs": [
        {
          "output_type": "execute_result",
          "data": {
            "text/plain": [
              "['paper', 'rock', 'scissors']"
            ]
          },
          "metadata": {},
          "execution_count": 5
        }
      ]
    },
    {
      "cell_type": "markdown",
      "source": [
        "#### `Model Spirior`"
      ],
      "metadata": {
        "id": "_Tcxqpp4Cxjc"
      }
    },
    {
      "cell_type": "code",
      "source": [
        "from tensorflow.keras.models import Sequential\n",
        "\n",
        "from tensorflow.keras import Model, layers\n",
        "\n",
        "model = Sequential([\n",
        "  layers.Conv2D(16, 3, activation=\"relu\", input_shape=(150, 150, 3)),\n",
        "  layers.MaxPool2D((2, 2)),\n",
        "  layers.Conv2D(32, 3, activation=\"relu\"),\n",
        "  layers.MaxPool2D((2, 2)),\n",
        "  layers.Conv2D(64, 3, activation=\"relu\"),\n",
        "  layers.MaxPool2D((2, 2)),\n",
        "  layers.Flatten(),\n",
        "  layers.Dropout(0.3),\n",
        "  layers.Dense(128, activation=\"relu\"),\n",
        "  layers.Dense(3, activation=\"softmax\")\n",
        "])\n",
        "\n",
        "loss = \"categorical_crossentropy\"\n",
        "\n",
        "model.compile(optimizer=\"adam\", loss=loss, metrics=[\"accuracy\"])"
      ],
      "metadata": {
        "id": "J0Q2rF8KDIgN"
      },
      "execution_count": null,
      "outputs": []
    },
    {
      "cell_type": "code",
      "source": [
        "hist = model.fit(train, epochs=10, validation_data=validation)"
      ],
      "metadata": {
        "id": "IldlupkYDMKL"
      },
      "execution_count": null,
      "outputs": []
    },
    {
      "cell_type": "markdown",
      "source": [
        "#### `Model Test`"
      ],
      "metadata": {
        "id": "XRma8yJREGrM"
      }
    },
    {
      "cell_type": "code",
      "source": [
        "model.evaluate(train, verbose=False)"
      ],
      "metadata": {
        "colab": {
          "base_uri": "https://localhost:8080/"
        },
        "id": "0zMCdPd0EIf2",
        "outputId": "93b99569-add7-424e-f10d-57c241571148"
      },
      "execution_count": null,
      "outputs": [
        {
          "output_type": "execute_result",
          "data": {
            "text/plain": [
              "[0.12937608361244202, 0.9604261517524719]"
            ]
          },
          "metadata": {},
          "execution_count": 8
        }
      ]
    },
    {
      "cell_type": "code",
      "source": [
        "model.evaluate(validation, verbose=False)"
      ],
      "metadata": {
        "colab": {
          "base_uri": "https://localhost:8080/"
        },
        "id": "zRJx6sLlEJ4V",
        "outputId": "c7a20fff-1e1b-43ed-9970-fa796efc2782"
      },
      "execution_count": null,
      "outputs": [
        {
          "output_type": "execute_result",
          "data": {
            "text/plain": [
              "[0.18601451814174652, 0.9393592476844788]"
            ]
          },
          "metadata": {},
          "execution_count": 9
        }
      ]
    },
    {
      "cell_type": "markdown",
      "source": [
        "*Our Model Achieves an Impressive 0.94 Average Accuracy on Both Training and Test Datasets*"
      ],
      "metadata": {
        "id": "2YR-xpSUEODY"
      }
    },
    {
      "cell_type": "code",
      "source": [
        "if not os.path.exists(\"Helplot.py\"):\n",
        "\n",
        "  giturl = \"https://raw.githubusercontent.com/Kelniit/Hut/refs/heads/main/Helplot.py\"\n",
        "\n",
        "  urllib.request.urlretrieve(giturl, \"Helplot.py\")"
      ],
      "metadata": {
        "id": "WjbvMREHERN0"
      },
      "execution_count": null,
      "outputs": []
    },
    {
      "cell_type": "code",
      "source": [
        "from Helplot import Helplot\n",
        "\n",
        "plot = Helplot(hist)\n",
        "\n",
        "plot.Relplot"
      ],
      "metadata": {
        "colab": {
          "base_uri": "https://localhost:8080/",
          "height": 465
        },
        "id": "oovIAWYtEvv6",
        "outputId": "85888331-a85d-4cfa-e114-71adaf034262"
      },
      "execution_count": null,
      "outputs": [
        {
          "output_type": "display_data",
          "data": {
            "text/plain": [
              "<Figure size 640x480 with 1 Axes>"
            ],
            "image/png": "[encoded data removed]"
          },
          "metadata": {}
        }
      ]
    },
    {
      "cell_type": "code",
      "source": [
        "plot.Falplot"
      ],
      "metadata": {
        "colab": {
          "base_uri": "https://localhost:8080/",
          "height": 465
        },
        "id": "d0EoTMm8EweM",
        "outputId": "424c06d8-49e1-4622-d375-90492bf7476c"
      },
      "execution_count": null,
      "outputs": [
        {
          "output_type": "display_data",
          "data": {
            "text/plain": [
              "<Figure size 640x480 with 1 Axes>"
            ],
            "image/png": "[encoded data removed]"
          },
          "metadata": {}
        }
      ]
    },
    {
      "cell_type": "code",
      "source": [
        "ModelFolder = \"/content/Modelite\"\n",
        "\n",
        "model.export(ModelFolder)"
      ],
      "metadata": {
        "id": "3dvd2GBgEyzl"
      },
      "execution_count": null,
      "outputs": []
    },
    {
      "cell_type": "markdown",
      "source": [
        "#### `TensorFlow Lite`"
      ],
      "metadata": {
        "id": "wgpkOgc7E10o"
      }
    },
    {
      "cell_type": "code",
      "source": [
        "tflite = tf.lite.TFLiteConverter\n",
        "\n",
        "tflite_model = tflite.from_saved_model(ModelFolder)\n",
        "\n",
        "tflite_model.optimizations = [tf.lite.Optimize.DEFAULT]\n",
        "\n",
        "tflite_model = tflite_model.convert()\n",
        "\n",
        "pathfile = \"HutModel01.tflite\"\n",
        "\n",
        "tflite_model_file = pathlib.Path(pathfile)\n",
        "\n",
        "tflite_model_file.write_bytes(tflite_model)"
      ],
      "metadata": {
        "colab": {
          "base_uri": "https://localhost:8080/"
        },
        "id": "z718m6CyE1FT",
        "outputId": "00dce3ee-bf1a-4182-debb-f919385f3b30"
      },
      "execution_count": null,
      "outputs": [
        {
          "output_type": "execute_result",
          "data": {
            "text/plain": [
              "2401440"
            ]
          },
          "metadata": {},
          "execution_count": 14
        }
      ]
    },
    {
      "cell_type": "code",
      "source": [
        "os.path.getsize(pathfile) / float(2**20)"
      ],
      "metadata": {
        "colab": {
          "base_uri": "https://localhost:8080/"
        },
        "id": "dQp_PCvRE7d6",
        "outputId": "d6450976-0529-4ba1-ff0a-64c456cfb86d"
      },
      "execution_count": null,
      "outputs": [
        {
          "output_type": "execute_result",
          "data": {
            "text/plain": [
              "2.290191650390625"
            ]
          },
          "metadata": {},
          "execution_count": 15
        }
      ]
    },
    {
      "cell_type": "markdown",
      "source": [
        "#### `Test TensorFlow Lite Model`"
      ],
      "metadata": {
        "id": "fHxa_gK1E-b1"
      }
    },
    {
      "cell_type": "code",
      "source": [
        "interpreter = tf.lite.Interpreter(model_path=pathfile)\n",
        "\n",
        "interpreter.get_signature_list()"
      ],
      "metadata": {
        "colab": {
          "base_uri": "https://localhost:8080/"
        },
        "id": "LLpfrk2NE_zK",
        "outputId": "460a788b-c7a9-492f-db03-d89d06aeb69f"
      },
      "execution_count": null,
      "outputs": [
        {
          "output_type": "execute_result",
          "data": {
            "text/plain": [
              "{'serving_default': {'inputs': ['keras_tensor'], 'outputs': ['output_0']}}"
            ]
          },
          "metadata": {},
          "execution_count": 16
        }
      ]
    },
    {
      "cell_type": "code",
      "source": [
        "lite_interpreter = interpreter.get_signature_runner('serving_default')\n",
        "\n",
        "lite_interpreter"
      ],
      "metadata": {
        "colab": {
          "base_uri": "https://localhost:8080/"
        },
        "id": "4Nq3vEmVFYBA",
        "outputId": "583014ec-975a-4fdb-81de-54a83b8adfa5"
      },
      "execution_count": null,
      "outputs": [
        {
          "output_type": "execute_result",
          "data": {
            "text/plain": [
              "<tensorflow.lite.python.interpreter.SignatureRunner at 0x7bbdd66fb730>"
            ]
          },
          "metadata": {},
          "execution_count": 17
        }
      ]
    },
    {
      "cell_type": "code",
      "source": [
        "paper = \"/content/rockpaperscissors/paper/04l5I8TqdzF9WDMJ.png\"\n",
        "\n",
        "tester = tf.keras.utils.load_img(paper, target_size=(150, 150))\n",
        "\n",
        "tester = tf.keras.utils.img_to_array(tester)\n",
        "\n",
        "tester = tf.expand_dims(tester, axis=0)\n",
        "\n",
        "tester = tf.cast(tester / 255.0, tf.float32)\n",
        "\n",
        "tester.shape"
      ],
      "metadata": {
        "colab": {
          "base_uri": "https://localhost:8080/"
        },
        "id": "uvhmf9PmFZmT",
        "outputId": "e0887a40-1e0f-4267-d682-1380631c3ebb"
      },
      "execution_count": null,
      "outputs": [
        {
          "output_type": "execute_result",
          "data": {
            "text/plain": [
              "TensorShape([1, 150, 150, 3])"
            ]
          },
          "metadata": {},
          "execution_count": 18
        }
      ]
    },
    {
      "cell_type": "code",
      "source": [
        "testa = lite_interpreter(keras_tensor=tester)['output_0']\n",
        "\n",
        "testa"
      ],
      "metadata": {
        "colab": {
          "base_uri": "https://localhost:8080/"
        },
        "id": "xH4QmFXnFcGt",
        "outputId": "721ac6ac-3c2e-42cb-93c8-65f96151c199"
      },
      "execution_count": null,
      "outputs": [
        {
          "output_type": "execute_result",
          "data": {
            "text/plain": [
              "array([[1.0000000e+00, 7.9003415e-15, 1.9054775e-24]], dtype=float32)"
            ]
          },
          "metadata": {},
          "execution_count": 19
        }
      ]
    },
    {
      "cell_type": "code",
      "source": [
        "labeler[tf.math.argmax(testa[0])]"
      ],
      "metadata": {
        "colab": {
          "base_uri": "https://localhost:8080/",
          "height": 36
        },
        "id": "wl1V4p97FdZf",
        "outputId": "b7c085c6-bb02-4d6f-bdc5-49279f409b65"
      },
      "execution_count": null,
      "outputs": [
        {
          "output_type": "execute_result",
          "data": {
            "text/plain": [
              "'paper'"
            ],
            "application/vnd.google.colaboratory.intrinsic+json": {
              "type": "string"
            }
          },
          "metadata": {},
          "execution_count": 20
        }
      ]
    },
    {
      "cell_type": "code",
      "source": [
        "test_img, test_label = next(iter(validation))\n",
        "\n",
        "logits = model.predict(test_img, verbose=0)\n",
        "\n",
        "logits.shape"
      ],
      "metadata": {
        "colab": {
          "base_uri": "https://localhost:8080/"
        },
        "id": "Ywy1KxtIFfFg",
        "outputId": "1c1ec3cf-acc9-40f2-b7c1-3c5186b06834"
      },
      "execution_count": null,
      "outputs": [
        {
          "output_type": "execute_result",
          "data": {
            "text/plain": [
              "(128, 3)"
            ]
          },
          "metadata": {},
          "execution_count": 21
        }
      ]
    },
    {
      "cell_type": "markdown",
      "source": [
        "#### `TensorFlow Serving`"
      ],
      "metadata": {
        "id": "69_u8nrKFhkZ"
      }
    },
    {
      "cell_type": "code",
      "source": [
        "!apt update\n",
        "\n",
        "!apt-get install tensorflow-model-server"
      ],
      "metadata": {
        "id": "2z6xePsCF64M"
      },
      "execution_count": null,
      "outputs": []
    },
    {
      "cell_type": "code",
      "source": [
        "class Outlabel(layers.Layer):\n",
        "  def __init__(self):\n",
        "    super(Outlabel, self).__init__()\n",
        "    self.label = labeler\n",
        "\n",
        "  def call(self, inputs):\n",
        "    tf.config.run_functions_eagerly(True)\n",
        "    logits = tf.nn.softmax(inputs)\n",
        "    logits = tf.math.argmax(inputs, axis=1)\n",
        "    result = tf.gather(self.label, logits)\n",
        "    return result"
      ],
      "metadata": {
        "id": "7flf06R1GWZw"
      },
      "execution_count": null,
      "outputs": []
    },
    {
      "cell_type": "code",
      "source": [
        "input_layer = tf.keras.layers.Input(shape=(150, 150, 3))\n",
        "\n",
        "modular = model(input_layer)\n",
        "\n",
        "output_layer = Outlabel()(modular)\n",
        "\n",
        "modular_server = tf.keras.Model(input_layer, output_layer)\n",
        "\n",
        "modular_server.output"
      ],
      "metadata": {
        "colab": {
          "base_uri": "https://localhost:8080/"
        },
        "id": "61YJ3-yVGYHs",
        "outputId": "f12781f7-ab61-48c3-fe22-0831969b3f19"
      },
      "execution_count": null,
      "outputs": [
        {
          "output_type": "execute_result",
          "data": {
            "text/plain": [
              "<KerasTensor shape=(None,), dtype=string, sparse=False, name=keras_tensor_13>"
            ]
          },
          "metadata": {},
          "execution_count": 24
        }
      ]
    },
    {
      "cell_type": "code",
      "source": [
        "tester = modular_server.predict(test_img, verbose=False)\n",
        "\n",
        "tester[:3]"
      ],
      "metadata": {
        "colab": {
          "base_uri": "https://localhost:8080/"
        },
        "id": "t3p70_TNGZgL",
        "outputId": "dcdbb25a-14d1-4bf7-fca8-8604aaf8d1f6"
      },
      "execution_count": null,
      "outputs": [
        {
          "output_type": "execute_result",
          "data": {
            "text/plain": [
              "array([b'paper', b'rock', b'paper'], dtype=object)"
            ]
          },
          "metadata": {},
          "execution_count": 25
        }
      ]
    },
    {
      "cell_type": "code",
      "source": [
        "ModelFolder = \"/content/ModelServer\"\n",
        "\n",
        "ModelSerial = \"1\"\n",
        "\n",
        "ModuleFolder = os.path.join(ModelFolder, ModelSerial)\n",
        "\n",
        "modular_server.export(ModuleFolder)"
      ],
      "metadata": {
        "id": "_XTPuExsGazm"
      },
      "execution_count": null,
      "outputs": []
    },
    {
      "cell_type": "code",
      "source": [
        "os.environ[\"ModelFolder\"] = ModelFolder"
      ],
      "metadata": {
        "id": "gJYH27VXGcfj"
      },
      "execution_count": null,
      "outputs": []
    },
    {
      "cell_type": "code",
      "source": [
        "%%bash --bg\n",
        "nohup tensorflow_model_server \\\n",
        "  --rest_api_port=8501 \\\n",
        "  --model_name=HutModule \\\n",
        "  --model_base_path=\"${ModelFolder}\" > server.log 2>&1"
      ],
      "metadata": {
        "id": "gtjvR6TtGe7f"
      },
      "execution_count": null,
      "outputs": []
    },
    {
      "cell_type": "code",
      "source": [
        "!tail server.log"
      ],
      "metadata": {
        "id": "hCjXhaEbGfaw"
      },
      "execution_count": null,
      "outputs": []
    },
    {
      "cell_type": "code",
      "source": [
        "import json, requests\n",
        "\n",
        "test_img = test_img.tolist()\n",
        "\n",
        "url = \"http://127.0.0.1:8501/v1/models/HutModule:predict\"\n",
        "\n",
        "image = json.dumps({\"signature_name\":\"serving_default\", \"instances\":test_img})\n",
        "\n",
        "content = {\"content-type\":\"application/json\"}\n",
        "\n",
        "response = requests.post(url, data=image, headers=content)\n",
        "\n",
        "loader = json.loads(response.text)\n",
        "\n",
        "result = loader[\"predictions\"]\n",
        "\n",
        "result[:4]"
      ],
      "metadata": {
        "colab": {
          "base_uri": "https://localhost:8080/"
        },
        "id": "go1GP31nGkOm",
        "outputId": "e32630ba-9c84-4d2c-a35d-ea7e66e46df6"
      },
      "execution_count": null,
      "outputs": [
        {
          "output_type": "execute_result",
          "data": {
            "text/plain": [
              "['paper', 'rock', 'paper', 'scissors']"
            ]
          },
          "metadata": {},
          "execution_count": 30
        }
      ]
    }
  ]
}